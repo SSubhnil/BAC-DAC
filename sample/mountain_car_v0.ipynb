{
 "cells": [
  {
   "cell_type": "markdown",
   "id": "6ee8bb6b",
   "metadata": {},
   "source": [
    "# Bayesian Actor Critic Model-free Reinforcement Learning \n",
    "### Mountain Car v0 Environment\n",
    "This is a sample code on how to run the Mountain Car environment with the BAC code. Similar methodology can be used for other environments when they are updated."
   ]
  },
  {
   "cell_type": "code",
   "execution_count": null,
   "id": "3f449cef",
   "metadata": {},
   "outputs": [],
   "source": [
    "# Import Libraries\n",
    "import gym\n",
    "import numpy as np\n",
    "import random\n",
    "import matplotlib.pyplot as plt\n",
    "\n",
    "import sys\n",
    "sys.path.append('BAC-DAC-Gym/')\n",
    "\n",
    "from BAC import BAC_main, BAC_grad\n",
    "from env.BAC_mountain_car import mountain_car_v0 as mc0_env"
   ]
  },
  {
   "cell_type": "code",
   "execution_count": null,
   "id": "6e839629",
   "metadata": {},
   "outputs": [],
   "source": [
    "# Make environment\n",
    "env_main = gym.make(\"MountainCar-v0\")\n",
    "env_main.reset()"
   ]
  },
  {
   "cell_type": "code",
   "execution_count": null,
   "id": "007f3977",
   "metadata": {},
   "outputs": [],
   "source": [
    "# Domain parameters\n",
    "num_episode_eval = 100 ## Number of episodes used for BAC Gradient evaluation\n",
    "\n",
    "episode_len_max = 200 ## Length of each episode in sec.\n",
    "num_update_max = 500 ## Apply the policy update after 500 cycles of BAC\n",
    "sample_interval = 50 \n",
    "num_trial = 1\n",
    "\n",
    "gam = 0.99 ## Discount Factor\n",
    "num_episode = 5\n",
    "\n",
    "#Initial learning rate\n",
    "alp_init_BAC = 0.025\n",
    "alp_variance_adaptive = 0\n",
    "alp_schedule = 0\n",
    "alp_update_param = 500\n",
    "\n",
    "SIGMA_INIT = 1"
   ]
  }
 ],
 "metadata": {
  "kernelspec": {
   "display_name": "Python 3",
   "language": "python",
   "name": "python3"
  },
  "language_info": {
   "codemirror_mode": {
    "name": "ipython",
    "version": 3
   },
   "file_extension": ".py",
   "mimetype": "text/x-python",
   "name": "python",
   "nbconvert_exporter": "python",
   "pygments_lexer": "ipython3",
   "version": "3.8.8"
  }
 },
 "nbformat": 4,
 "nbformat_minor": 5
}
